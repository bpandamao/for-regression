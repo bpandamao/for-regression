{
 "cells": [
  {
   "cell_type": "markdown",
   "id": "d44a4515",
   "metadata": {},
   "source": [
    "# Bayesian additive regression tree\n",
    "\n",
    "<a href=\"http://www-stat.wharton.upenn.edu/~edgeorge/Research_papers/BART%20June%2008.pdf\">paper</a>\n",
    "\n",
    "a sum-of-trees model for approximating an unknown function\n",
    "\n",
    "To avoid overfitting, BART uses a regularization prior that forces each tree to be able to explain only a limited subset of the relationships between the covariates and the predictor variable.\n",
    "\n",
    "### BART:a sum-of-trees model + a regularization prior on the parameters of that model\n",
    "\n",
    "sum-of-trees model\n",
    "\n",
    "$y=f(x)+ \\epsilon$..$f(x)$->$E(y|x)=h(x)=\\sum_{j}^{m}g_{j}(x)$, $g(x)$ us a regression tree\n",
    "for a regression tree, the value $\\mu_{j}$ of the terminal mode is assigned to a sample with $X={x_{1},x_{2},....x_{p}}$, so we can have $g(x;T,M)$ with T is the nodes and decision rules, M is the $\\mu$, and \n",
    "$y=\\sum_{j}^{m}g(x;T_{j},M_{j})+\\epsilon$, different trees have different $T_{j},M_{j}$\n",
    "\n",
    "When every terminal node assignment depends on just a single component of  x, the sum-of-trees model reduces to a simple additive function, a sum of step functions of the individual components of x. m is the number of parameters, with how many trees, So how to set the m\n",
    "\n",
    "#### the choice of m\n",
    "a fast and robust option is to choose m=200,then maybe check if a couple of other values makes any difference, to look if the performance improve with the increased m\n",
    "\n",
    "A regularization prior\n",
    "Without such a regularizing influence, large tree components would overwhelm the rich structure,thereby limiting the advantages of the additive representation both in terms of function approximation and computation.\n",
    "<img src=\"image/bart_prior.png\" width=\"800\" height=\"400\">\n",
    "\n",
    "#### prior for T\n",
    "1.the depth of the tree\n",
    "2.distribution splitting variables-- uniform\n",
    "3.the distribution on the splitting rule assignment in each interior node\n",
    "\n",
    "####  prior for $\\mu|T$\n",
    "using a Gaussian distribution N(0,$\\sigma$),$\\sigma=\\frac{0.5}{k\\sqrt(m)}$, with k and m control the individual tree effects, which should not be too large\n",
    "\n",
    "#### prior for $\\sigma$\n",
    "the inverse chi-square distribution,For automatic use, Chipman et al. (2010) recommend the default setting 3,0.9 with $\\nu,\\lambda$\n"
   ]
  },
  {
   "cell_type": "markdown",
   "id": "4b8f55c0",
   "metadata": {},
   "source": [
    "### Using backfitting MCMC algorithm to sampling\n",
    "\n",
    "chanllenge is to sample from the posterior $(T_{j},M_{j}|T_{(j)},M_{(j)},\\sigma)$ in Gibbs sampler\n",
    "\n",
    "what is the relationship between $T_{j},M_{j}$ and $T_{(j)},M_{(j)}$,  $R_{j}=y-\\sum_{k<>j}g(x;T_{k},M_{k})$\n",
    "\n",
    "for $T_{j},M_{j}|R_{j},\\sigma$, it can be sampled $M_{j}|T_{j},R_{j},\\sigma, T_{j}|R_{j},\\sigma$\n",
    "\n",
    "in $T_{j}|R_{j},\\sigma$ is without $M_{j}$, which can be integrated, as $R_{j}=g(x;T_{j},M_{j})$ based on $T_{j},M_{j}$\n",
    "\n",
    "#### How to draw $T_{j}$, also a MH algorithm with always accepting\n",
    "\n",
    "propose a new tree based on the current tree, like add a terminal node and change decision rules of the nodes\n",
    "\n",
    "so, first,have a proposal $T_{j}^{*}$, and we have $M_{j}^{*} and have R_{j}^{*}, which is used to the next draw of $T_{j}$\n",
    "each tree has its modification and end the gibbs,\n"
   ]
  },
  {
   "cell_type": "markdown",
   "id": "85152485",
   "metadata": {},
   "source": [
    "the post samples can give approximation to the y and can be used to test partial dependance\n",
    "\n",
    "and the frequency of component x to be used as the splitting rules can help do the variable selection"
   ]
  },
  {
   "cell_type": "markdown",
   "id": "7af40b08",
   "metadata": {},
   "source": [
    "#### BART+ probit =>classification"
   ]
  },
  {
   "cell_type": "code",
   "execution_count": null,
   "id": "f9e667a6",
   "metadata": {},
   "outputs": [],
   "source": []
  }
 ],
 "metadata": {
  "kernelspec": {
   "display_name": "Python 3 (ipykernel)",
   "language": "python",
   "name": "python3"
  },
  "language_info": {
   "codemirror_mode": {
    "name": "ipython",
    "version": 3
   },
   "file_extension": ".py",
   "mimetype": "text/x-python",
   "name": "python",
   "nbconvert_exporter": "python",
   "pygments_lexer": "ipython3",
   "version": "3.9.12"
  }
 },
 "nbformat": 4,
 "nbformat_minor": 5
}
